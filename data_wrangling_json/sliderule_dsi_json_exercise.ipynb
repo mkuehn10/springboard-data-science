{
 "cells": [
  {
   "cell_type": "markdown",
   "metadata": {},
   "source": [
    "****\n",
    "## JSON exercise\n",
    "\n",
    "Using data in file 'data/world_bank_projects.json' and the techniques demonstrated above,\n",
    "1. Find the 10 countries with most projects\n",
    "2. Find the top 10 major project themes (using column 'mjtheme_namecode')\n",
    "3. In 2. above you will notice that some entries have only the code and the name is missing. Create a dataframe with the missing names filled in."
   ]
  },
  {
   "cell_type": "code",
   "execution_count": 1,
   "metadata": {},
   "outputs": [],
   "source": [
    "import pandas as pd\n",
    "import json\n",
    "from pandas.io.json import json_normalize"
   ]
  },
  {
   "cell_type": "code",
   "execution_count": 2,
   "metadata": {},
   "outputs": [],
   "source": [
    "data = json.load((open('data/world_bank_projects.json')))"
   ]
  },
  {
   "cell_type": "markdown",
   "metadata": {},
   "source": [
    "### 1. Find the 10 countries with the most projects\n",
    "The strategy here is to use json_normalize to create a DataFrame that captures\n",
    "the 'countryshortname' attribute.  The .value_counts() DataFrame method is used\n",
    "with slicing to obtain the top ten countries with the most projects."
   ]
  },
  {
   "cell_type": "code",
   "execution_count": 3,
   "metadata": {},
   "outputs": [
    {
     "name": "stdout",
     "output_type": "stream",
     "text": [
      "Top 10 countries with the most projects\n",
      "\n",
      "China                 19\n",
      "Indonesia             19\n",
      "Vietnam               17\n",
      "India                 16\n",
      "Yemen, Republic of    13\n",
      "Bangladesh            12\n",
      "Morocco               12\n",
      "Nepal                 12\n",
      "Mozambique            11\n",
      "Africa                11\n",
      "Name: countryshortname, dtype: int64\n"
     ]
    }
   ],
   "source": [
    "df_countries = json_normalize(data, '_id', 'countryshortname')\n",
    "\n",
    "print(\"Top 10 countries with the most projects\\n\")\n",
    "print(df_countries.countryshortname.value_counts()[0:10])"
   ]
  },
  {
   "cell_type": "markdown",
   "metadata": {},
   "source": [
    "### 2. Find the top 10 major project themes (using column 'mjtheme_namecode')\n",
    "Using json_normalize, the project themes are extracted in to a DataFrame and then .value_counts()\n",
    "is used to extract the top ten project themes.  Notice that there is a blank area which indicates\n",
    "that some of the project themes are not listed properly in the data.  This will be cleaned up\n",
    "in the next section."
   ]
  },
  {
   "cell_type": "code",
   "execution_count": 4,
   "metadata": {},
   "outputs": [
    {
     "name": "stdout",
     "output_type": "stream",
     "text": [
      "Top 10 major project themes\n",
      "\n",
      "Environment and natural resources management    223\n",
      "Rural development                               202\n",
      "Human development                               197\n",
      "Public sector governance                        184\n",
      "Social protection and risk management           158\n",
      "Financial and private sector development        130\n",
      "                                                122\n",
      "Social dev/gender/inclusion                     119\n",
      "Trade and integration                            72\n",
      "Urban development                                47\n",
      "Name: name, dtype: int64\n",
      "\n",
      "The DataFrame has blanks in the name column!\n"
     ]
    }
   ],
   "source": [
    "df_themes = json_normalize(data, 'mjtheme_namecode')\n",
    "\n",
    "print(\"Top 10 major project themes\\n\")\n",
    "print(df_themes.name.value_counts()[0:10])\n",
    "\n",
    "# Check to see if there are any blanks in the name column (expect an error here)\n",
    "try:\n",
    "    assert sum(df_themes.name == '') == 0\n",
    "    print(\"The DataFrame has no blanks in the name column!\\n\")\n",
    "except AssertionError:\n",
    "    print(\"\\nThe DataFrame has blanks in the name column!\")"
   ]
  },
  {
   "cell_type": "markdown",
   "metadata": {},
   "source": [
    "### 3. In 2. above you will notice that some entries have only the code and the name is missing. Create a dataframe with the missing names filled in.\n",
    "I approached this problem originally using brute force.  I created a hard-coded list of all\n",
    "the codes in the project DataFrame and a list of all the project themes.  I then zipped these\n",
    "in to a dictionary, looped through each of the codes, and assigned to any row with a missing name\n",
    "the correct name that matched with the code in that row.  There is nothing wrong with this approach\n",
    "since there were only 11 different codes.  If there were many more, then this would cause issues.\n",
    "Imagine having 100 project themes -- finding all of them and hard-coding these values would defeat\n",
    "the purpose of using code to complete this task.\n",
    "\n",
    "The next approach I took was to figure out a way to automatically map the codes to the names by\n",
    "searching through the DataFrame.  Since I knew the codes were integers, I decided that I could\n",
    "group by the different project themes and use the mean of the codes to create a new table with\n",
    "each distinct name and code.  This only works since the codes could be converted to integers and \n",
    "with the assumption that every code and name was correct.  If one name was matched with an incorrect\n",
    "code, then this method would have issues.  I then used the result of the grouping to create a dictionary\n",
    "mapping of the codes and themes.\n",
    "\n",
    "A third approach I thought of was to drop any duplicates out of the table that contained the codes\n",
    "and themes.  This is again based on the assumption that the codes and themes were all matched up correctly.\n",
    "This method removed the need to rely on the codes being integers and could be extended to other columns that\n",
    "contained alphanumeric strings."
   ]
  },
  {
   "cell_type": "code",
   "execution_count": 5,
   "metadata": {},
   "outputs": [
    {
     "name": "stdout",
     "output_type": "stream",
     "text": [
      "The DataFrame has no blanks in the name column!\n",
      "\n",
      "Top 10 major project themes\n",
      "\n",
      "Environment and natural resources management    250\n",
      "Rural development                               216\n",
      "Human development                               210\n",
      "Public sector governance                        199\n",
      "Social protection and risk management           168\n",
      "Financial and private sector development        146\n",
      "Social dev/gender/inclusion                     130\n",
      "Trade and integration                            77\n",
      "Urban development                                50\n",
      "Economic management                              38\n",
      "Name: name, dtype: int64\n",
      "\n",
      "Top 10 codes (should match the preceding list)\n",
      "\n",
      "11    250\n",
      "10    216\n",
      "8     210\n",
      "2     199\n",
      "6     168\n",
      "4     146\n",
      "7     130\n",
      "5      77\n",
      "9      50\n",
      "1      38\n",
      "Name: code, dtype: int64\n"
     ]
    }
   ],
   "source": [
    "df_themes_fixed = df_themes.copy()\n",
    "\n",
    "# The method described below was how the original mapping was created\n",
    "# to fill in the missing names based on the codes\n",
    "\n",
    "# Manually get the name string for each of the codes using the \n",
    "# following line of code, then create a dictionary mapping the codes\n",
    "# to the name strings\n",
    "# print(df_themes_fixed[df_themes_fixed['code'] == '11'])\n",
    "#codes = ['1', '2', '3', '4', '5', '6', '7', '8', '9', '10', '11']\n",
    "#names = ['Economic management', \"Public sector governance\", \"Rule of law\",\n",
    "#        \"Financial and private sector development\", \"Trade and integration\",\n",
    "#        \"Social protection and risk management\", \"Social dev/gender/inclusion\",\n",
    "#        \"Human development\", \"Urban development\", \"Rural development\", \n",
    "#        \"Environment and natural resources management\"]\n",
    "#codes_dict = dict(zip(codes, names))\n",
    "\n",
    "# The following method is a programmatic way to fill in the names\n",
    "# based on the existing codes in the table.  This would be the preferred\n",
    "# method if there were significantly more codes than the 11 that are in\n",
    "# the current form of the data.  Also, if the codes were not integers,\n",
    "# another method would need to be used as well.\n",
    "\n",
    "# Generate a list of all of the codes in the DataFrame\n",
    "codes_list = list(df_themes_fixed.code.unique())\n",
    "\n",
    "# Convert the current codes to integers\n",
    "df_themes_fixed['code'] = df_themes_fixed['code'].astype(int)\n",
    "\n",
    "codes_dict = {}\n",
    "\n",
    "# Loop through all of the unique codes\n",
    "for code in codes_list:\n",
    "    # For each code, find all of the rows that are not empty\n",
    "    # Assume that each code is assigned to the correct name\n",
    "    # Aggregate using the mean to get the original code after grouping by name\n",
    "    df_code = df_themes_fixed.loc[(df_themes_fixed['code'] == int(code)) & \n",
    "                                  (df_themes_fixed['name'] != ''), :].groupby('name').mean()\n",
    "    \n",
    "    codes_dict[df_code.code[0]] = df_code.index[0]\n",
    "\n",
    "# Originally defined a new function to return the name from the dictionary\n",
    "#def get_name(row):\n",
    "#    return codes_dict[row['code']]\n",
    "\n",
    "# Select rows where the name is empty and then apply the lambda function to\n",
    "# retrieve the name corresponding to the code\n",
    "#df_themes_fixed.loc[df_themes_fixed['name'] == '', 'name'] = \\\n",
    "#                               df_themes_fixed.apply(get_name, axis = 1)\n",
    "df_themes_fixed.loc[df_themes_fixed['name'] == '', 'name'] = \\\n",
    "                                df_themes_fixed.apply(lambda r: codes_dict[r['code']], \n",
    "                                                      axis = 1)\n",
    "\n",
    "# Check to see if there are any blanks in the name column (expect no error here)\n",
    "try:\n",
    "    assert sum(df_themes_fixed.name == '') == 0\n",
    "    print(\"The DataFrame has no blanks in the name column!\\n\")\n",
    "except AssertionError:\n",
    "    print(\"\\nThe DataFrame has blanks in the name column!\")\n",
    "\n",
    "# Print out a clean list of the top 10 major project themes\n",
    "print(\"Top 10 major project themes\\n\")\n",
    "print(df_themes_fixed.name.value_counts()[0:10])\n",
    "print(\"\\nTop 10 codes (should match the preceding list)\\n\")\n",
    "print(df_themes_fixed.code.value_counts()[0:10])"
   ]
  },
  {
   "cell_type": "code",
   "execution_count": 6,
   "metadata": {},
   "outputs": [
    {
     "name": "stdout",
     "output_type": "stream",
     "text": [
      "The DataFrame has no blanks in the name column!\n",
      "\n",
      "Top 10 major project themes\n",
      "\n",
      "Environment and natural resources management    250\n",
      "Rural development                               216\n",
      "Human development                               210\n",
      "Public sector governance                        199\n",
      "Social protection and risk management           168\n",
      "Financial and private sector development        146\n",
      "Social dev/gender/inclusion                     130\n",
      "Trade and integration                            77\n",
      "Urban development                                50\n",
      "Economic management                              38\n",
      "Name: name, dtype: int64\n",
      "\n",
      "Top 10 codes (should match the preceding list)\n",
      "\n",
      "11    250\n",
      "10    216\n",
      "8     210\n",
      "2     199\n",
      "6     168\n",
      "4     146\n",
      "7     130\n",
      "5      77\n",
      "9      50\n",
      "1      38\n",
      "Name: code, dtype: int64\n"
     ]
    }
   ],
   "source": [
    "# A third way to extract names associated with each code.\n",
    "# This method would work on more types of data since it does\n",
    "# not rely on the code column being an integer\n",
    "df_test = df_themes.copy()\n",
    "df_test.head()\n",
    "\n",
    "df_no_dupes = df_test.loc[df_test['name'] != '', :].drop_duplicates()\n",
    "\n",
    "codes_list2 = list(df_no_dupes.code)\n",
    "\n",
    "codes_dict2 = {}\n",
    "for code in codes_list2:\n",
    "        codes_dict2[code] = df_no_dupes.loc[df_no_dupes.code == code, 'name'].iloc[0]\n",
    "\n",
    "\n",
    "# One could use this dictionary in the same manner as above\n",
    "# I used a new copy of the themes DataFrame (df_test)\n",
    "df_test.loc[df_test['name'] == '', 'name'] = \\\n",
    "                                df_test.apply(lambda r: codes_dict2[r['code']], axis = 1)\n",
    "\n",
    "# Check to see if there are any blanks in the name column (expect no error here)\n",
    "try:\n",
    "    assert sum(df_test.name == '') == 0\n",
    "    print(\"The DataFrame has no blanks in the name column!\\n\")\n",
    "except AssertionError:\n",
    "    print(\"\\nThe DataFrame has blanks in the name column!\")\n",
    "\n",
    "# Print out a clean list of the top 10 major project themes\n",
    "print(\"Top 10 major project themes\\n\")\n",
    "print(df_test.name.value_counts()[0:10])\n",
    "print(\"\\nTop 10 codes (should match the preceding list)\\n\")\n",
    "print(df_test.code.value_counts()[0:10])"
   ]
  }
 ],
 "metadata": {
  "kernelspec": {
   "display_name": "Python 3",
   "language": "python",
   "name": "python3"
  },
  "language_info": {
   "codemirror_mode": {
    "name": "ipython",
    "version": 3
   },
   "file_extension": ".py",
   "mimetype": "text/x-python",
   "name": "python",
   "nbconvert_exporter": "python",
   "pygments_lexer": "ipython3",
   "version": "3.6.3"
  }
 },
 "nbformat": 4,
 "nbformat_minor": 1
}
